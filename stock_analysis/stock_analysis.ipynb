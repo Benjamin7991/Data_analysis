{
 "cells": [
  {
   "cell_type": "code",
   "execution_count": 1,
   "metadata": {},
   "outputs": [],
   "source": [
    "import numpy as np\n",
    "import matplotlib.pyplot as plt  \n",
    "import pandas as pd  \n",
    "from sklearn.linear_model import LinearRegression\n",
    "import statsmodels.api as sm"
   ]
  },
  {
   "cell_type": "code",
   "execution_count": 2,
   "metadata": {},
   "outputs": [
    {
     "data": {
      "text/html": [
       "<div>\n",
       "<style scoped>\n",
       "    .dataframe tbody tr th:only-of-type {\n",
       "        vertical-align: middle;\n",
       "    }\n",
       "\n",
       "    .dataframe tbody tr th {\n",
       "        vertical-align: top;\n",
       "    }\n",
       "\n",
       "    .dataframe thead th {\n",
       "        text-align: right;\n",
       "    }\n",
       "</style>\n",
       "<table border=\"1\" class=\"dataframe\">\n",
       "  <thead>\n",
       "    <tr style=\"text-align: right;\">\n",
       "      <th></th>\n",
       "      <th>Date</th>\n",
       "      <th>Open</th>\n",
       "      <th>High</th>\n",
       "      <th>Low</th>\n",
       "      <th>Close</th>\n",
       "      <th>Adj Close</th>\n",
       "      <th>Volume</th>\n",
       "    </tr>\n",
       "  </thead>\n",
       "  <tbody>\n",
       "    <tr>\n",
       "      <th>0</th>\n",
       "      <td>2020-01-02</td>\n",
       "      <td>32.310001</td>\n",
       "      <td>32.500000</td>\n",
       "      <td>31.959999</td>\n",
       "      <td>32.299999</td>\n",
       "      <td>32.299999</td>\n",
       "      <td>10721100</td>\n",
       "    </tr>\n",
       "    <tr>\n",
       "      <th>1</th>\n",
       "      <td>2020-01-03</td>\n",
       "      <td>31.709999</td>\n",
       "      <td>32.099998</td>\n",
       "      <td>31.260000</td>\n",
       "      <td>31.520000</td>\n",
       "      <td>31.520000</td>\n",
       "      <td>14429500</td>\n",
       "    </tr>\n",
       "    <tr>\n",
       "      <th>2</th>\n",
       "      <td>2020-01-06</td>\n",
       "      <td>31.230000</td>\n",
       "      <td>31.709999</td>\n",
       "      <td>31.160000</td>\n",
       "      <td>31.639999</td>\n",
       "      <td>31.639999</td>\n",
       "      <td>12582500</td>\n",
       "    </tr>\n",
       "    <tr>\n",
       "      <th>3</th>\n",
       "      <td>2020-01-07</td>\n",
       "      <td>31.799999</td>\n",
       "      <td>32.700001</td>\n",
       "      <td>31.719999</td>\n",
       "      <td>32.540001</td>\n",
       "      <td>32.540001</td>\n",
       "      <td>13712900</td>\n",
       "    </tr>\n",
       "    <tr>\n",
       "      <th>4</th>\n",
       "      <td>2020-01-08</td>\n",
       "      <td>32.349998</td>\n",
       "      <td>33.400002</td>\n",
       "      <td>32.349998</td>\n",
       "      <td>33.049999</td>\n",
       "      <td>33.049999</td>\n",
       "      <td>14632400</td>\n",
       "    </tr>\n",
       "    <tr>\n",
       "      <th>...</th>\n",
       "      <td>...</td>\n",
       "      <td>...</td>\n",
       "      <td>...</td>\n",
       "      <td>...</td>\n",
       "      <td>...</td>\n",
       "      <td>...</td>\n",
       "      <td>...</td>\n",
       "    </tr>\n",
       "    <tr>\n",
       "      <th>206</th>\n",
       "      <td>2020-10-26</td>\n",
       "      <td>50.000000</td>\n",
       "      <td>50.650002</td>\n",
       "      <td>48.400002</td>\n",
       "      <td>49.000000</td>\n",
       "      <td>49.000000</td>\n",
       "      <td>22804000</td>\n",
       "    </tr>\n",
       "    <tr>\n",
       "      <th>207</th>\n",
       "      <td>2020-10-27</td>\n",
       "      <td>49.500000</td>\n",
       "      <td>51.509998</td>\n",
       "      <td>49.139999</td>\n",
       "      <td>51.270000</td>\n",
       "      <td>51.270000</td>\n",
       "      <td>19306200</td>\n",
       "    </tr>\n",
       "    <tr>\n",
       "      <th>208</th>\n",
       "      <td>2020-10-28</td>\n",
       "      <td>49.599998</td>\n",
       "      <td>50.000000</td>\n",
       "      <td>48.250000</td>\n",
       "      <td>48.529999</td>\n",
       "      <td>48.529999</td>\n",
       "      <td>20168100</td>\n",
       "    </tr>\n",
       "    <tr>\n",
       "      <th>209</th>\n",
       "      <td>2020-10-29</td>\n",
       "      <td>51.950001</td>\n",
       "      <td>52.930000</td>\n",
       "      <td>50.570000</td>\n",
       "      <td>52.430000</td>\n",
       "      <td>52.430000</td>\n",
       "      <td>55935600</td>\n",
       "    </tr>\n",
       "    <tr>\n",
       "      <th>210</th>\n",
       "      <td>2020-10-30</td>\n",
       "      <td>44.529999</td>\n",
       "      <td>45.180000</td>\n",
       "      <td>40.830002</td>\n",
       "      <td>41.360001</td>\n",
       "      <td>41.360001</td>\n",
       "      <td>86346700</td>\n",
       "    </tr>\n",
       "  </tbody>\n",
       "</table>\n",
       "<p>211 rows × 7 columns</p>\n",
       "</div>"
      ],
      "text/plain": [
       "          Date       Open       High        Low      Close  Adj Close  \\\n",
       "0   2020-01-02  32.310001  32.500000  31.959999  32.299999  32.299999   \n",
       "1   2020-01-03  31.709999  32.099998  31.260000  31.520000  31.520000   \n",
       "2   2020-01-06  31.230000  31.709999  31.160000  31.639999  31.639999   \n",
       "3   2020-01-07  31.799999  32.700001  31.719999  32.540001  32.540001   \n",
       "4   2020-01-08  32.349998  33.400002  32.349998  33.049999  33.049999   \n",
       "..         ...        ...        ...        ...        ...        ...   \n",
       "206 2020-10-26  50.000000  50.650002  48.400002  49.000000  49.000000   \n",
       "207 2020-10-27  49.500000  51.509998  49.139999  51.270000  51.270000   \n",
       "208 2020-10-28  49.599998  50.000000  48.250000  48.529999  48.529999   \n",
       "209 2020-10-29  51.950001  52.930000  50.570000  52.430000  52.430000   \n",
       "210 2020-10-30  44.529999  45.180000  40.830002  41.360001  41.360001   \n",
       "\n",
       "       Volume  \n",
       "0    10721100  \n",
       "1    14429500  \n",
       "2    12582500  \n",
       "3    13712900  \n",
       "4    14632400  \n",
       "..        ...  \n",
       "206  22804000  \n",
       "207  19306200  \n",
       "208  20168100  \n",
       "209  55935600  \n",
       "210  86346700  \n",
       "\n",
       "[211 rows x 7 columns]"
      ]
     },
     "execution_count": 2,
     "metadata": {},
     "output_type": "execute_result"
    }
   ],
   "source": [
    "twtr = pd.read_csv('TWTR.csv')\n",
    "twtr['Date'] =pd.to_datetime(twtr.Date)\n",
    "twtr.sort_values('Date')"
   ]
  },
  {
   "cell_type": "code",
   "execution_count": 3,
   "metadata": {},
   "outputs": [
    {
     "name": "stdout",
     "output_type": "stream",
     "text": [
      "        Date       Open       High        Low      Close  Adj Close    Volume\n",
      "0 2020-01-02  32.310001  32.500000  31.959999  32.299999  32.299999  10721100\n",
      "1 2020-01-03  31.709999  32.099998  31.260000  31.520000  31.520000  14429500\n",
      "2 2020-01-06  31.230000  31.709999  31.160000  31.639999  31.639999  12582500\n",
      "3 2020-01-07  31.799999  32.700001  31.719999  32.540001  32.540001  13712900\n",
      "4 2020-01-08  32.349998  33.400002  32.349998  33.049999  33.049999  14632400\n"
     ]
    }
   ],
   "source": [
    "print(twtr.head())\n"
   ]
  },
  {
   "cell_type": "code",
   "execution_count": 4,
   "metadata": {},
   "outputs": [
    {
     "name": "stdout",
     "output_type": "stream",
     "text": [
      "          Date       Open       High        Low      Close  Adj Close  \\\n",
      "206 2020-10-26  50.000000  50.650002  48.400002  49.000000  49.000000   \n",
      "207 2020-10-27  49.500000  51.509998  49.139999  51.270000  51.270000   \n",
      "208 2020-10-28  49.599998  50.000000  48.250000  48.529999  48.529999   \n",
      "209 2020-10-29  51.950001  52.930000  50.570000  52.430000  52.430000   \n",
      "210 2020-10-30  44.529999  45.180000  40.830002  41.360001  41.360001   \n",
      "\n",
      "       Volume  \n",
      "206  22804000  \n",
      "207  19306200  \n",
      "208  20168100  \n",
      "209  55935600  \n",
      "210  86346700  \n"
     ]
    }
   ],
   "source": [
    "print(twtr.tail())"
   ]
  },
  {
   "cell_type": "code",
   "execution_count": 5,
   "metadata": {},
   "outputs": [
    {
     "name": "stdout",
     "output_type": "stream",
     "text": [
      "Mean: 35.087\n",
      "Stdv: 6.39\n",
      "Min: 22.0\n",
      "Max : 52.43\n"
     ]
    }
   ],
   "source": [
    "#print(twtr['Adj Close'].describe().round(decimals=3))\n",
    "print( 'Mean: ' + str(round((twtr['Adj Close'].mean()),3)))\n",
    "print('Stdv: ' + str(round((twtr['Adj Close'].std()),3)))\n",
    "print( 'Min: ' + str(round((twtr['Adj Close'].min()),3)))\n",
    "print( 'Max : ' + str(round((twtr['Adj Close'].max()),3)))"
   ]
  },
  {
   "cell_type": "code",
   "execution_count": 6,
   "metadata": {},
   "outputs": [
    {
     "name": "stdout",
     "output_type": "stream",
     "text": [
      "        Date  Stock Return\n",
      "1 2020-01-03     -0.024149\n",
      "2 2020-01-06      0.003807\n",
      "3 2020-01-07      0.028445\n",
      "4 2020-01-08      0.015673\n",
      "5 2020-01-09      0.005144\n"
     ]
    }
   ],
   "source": [
    "stock_returns = twtr[['Date', 'Open', 'Close']].copy()\n",
    "stock_returns['Stock Return']= stock_returns['Close'].pct_change()\n",
    "del stock_returns['Open']\n",
    "del stock_returns['Close']\n",
    "stock_returns = stock_returns.dropna()\n",
    "print(stock_returns.head())\n"
   ]
  },
  {
   "cell_type": "code",
   "execution_count": 7,
   "metadata": {},
   "outputs": [
    {
     "name": "stdout",
     "output_type": "stream",
     "text": [
      "          Date  Stock Return\n",
      "206 2020-10-26     -0.028549\n",
      "207 2020-10-27      0.046327\n",
      "208 2020-10-28     -0.053443\n",
      "209 2020-10-29      0.080363\n",
      "210 2020-10-30     -0.211139\n"
     ]
    }
   ],
   "source": [
    "print(stock_returns.tail())"
   ]
  },
  {
   "cell_type": "code",
   "execution_count": 8,
   "metadata": {},
   "outputs": [
    {
     "name": "stdout",
     "output_type": "stream",
     "text": [
      "        Date  Stock Return\n",
      "3 2020-01-07      0.028445\n",
      "4 2020-01-08      0.015673\n",
      "5 2020-01-09      0.005144\n",
      "2 2020-01-06      0.003807\n",
      "1 2020-01-03     -0.024149\n"
     ]
    }
   ],
   "source": [
    "print(stock_returns.head().sort_values('Stock Return', ascending = False))"
   ]
  },
  {
   "cell_type": "code",
   "execution_count": 9,
   "metadata": {},
   "outputs": [
    {
     "name": "stdout",
     "output_type": "stream",
     "text": [
      "          Date  Stock Return\n",
      "209 2020-10-29      0.080363\n",
      "207 2020-10-27      0.046327\n",
      "206 2020-10-26     -0.028549\n",
      "208 2020-10-28     -0.053443\n",
      "210 2020-10-30     -0.211139\n"
     ]
    }
   ],
   "source": [
    "print(stock_returns.tail().sort_values('Stock Return', ascending = False))"
   ]
  },
  {
   "cell_type": "code",
   "execution_count": 10,
   "metadata": {},
   "outputs": [
    {
     "name": "stdout",
     "output_type": "stream",
     "text": [
      "Mean: 0.002065\n",
      "Median: 0.001897\n",
      "Variance: 0.001736\n",
      "Stdv: 0.04166\n",
      "Min: -0.211139\n",
      "Max: 0.150344\n",
      "Variance: 0.150344\n",
      "Skew: -0.779875\n",
      "Kurtosis: 5.439541\n"
     ]
    }
   ],
   "source": [
    "\n",
    "print( 'Mean: ' + str(round((stock_returns['Stock Return'].mean()),6)))\n",
    "print( 'Median: ' + str(round((stock_returns['Stock Return'].median()),6)))\n",
    "print( 'Variance: ' + str(round((stock_returns['Stock Return'].var()),6)))\n",
    "print('Stdv: ' + str(round((stock_returns['Stock Return'].std()),6)))\n",
    "print( 'Min: ' + str(round((stock_returns['Stock Return'].min()),6)))\n",
    "print( 'Max: ' + str(round((stock_returns['Stock Return'].max()),6)))\n",
    "print( 'Variance: ' + str(round((stock_returns['Stock Return'].max()),6)))\n",
    "print( 'Skew: ' + str(round((stock_returns['Stock Return'].skew()),6)))\n",
    "print( 'Kurtosis: ' + str(round((stock_returns['Stock Return'].kurtosis()),6)))\n"
   ]
  },
  {
   "cell_type": "code",
   "execution_count": 11,
   "metadata": {},
   "outputs": [],
   "source": [
    "mkt_returns = pd.read_csv('^GSPC.csv')"
   ]
  },
  {
   "cell_type": "code",
   "execution_count": 12,
   "metadata": {},
   "outputs": [
    {
     "data": {
      "text/html": [
       "<div>\n",
       "<style scoped>\n",
       "    .dataframe tbody tr th:only-of-type {\n",
       "        vertical-align: middle;\n",
       "    }\n",
       "\n",
       "    .dataframe tbody tr th {\n",
       "        vertical-align: top;\n",
       "    }\n",
       "\n",
       "    .dataframe thead th {\n",
       "        text-align: right;\n",
       "    }\n",
       "</style>\n",
       "<table border=\"1\" class=\"dataframe\">\n",
       "  <thead>\n",
       "    <tr style=\"text-align: right;\">\n",
       "      <th></th>\n",
       "      <th>Date</th>\n",
       "      <th>Open</th>\n",
       "      <th>High</th>\n",
       "      <th>Low</th>\n",
       "      <th>Close</th>\n",
       "      <th>Adj Close</th>\n",
       "      <th>Volume</th>\n",
       "    </tr>\n",
       "  </thead>\n",
       "  <tbody>\n",
       "    <tr>\n",
       "      <th>0</th>\n",
       "      <td>2020-01-02</td>\n",
       "      <td>3244.669922</td>\n",
       "      <td>3258.139893</td>\n",
       "      <td>3235.530029</td>\n",
       "      <td>3257.850098</td>\n",
       "      <td>3257.850098</td>\n",
       "      <td>3458250000</td>\n",
       "    </tr>\n",
       "    <tr>\n",
       "      <th>1</th>\n",
       "      <td>2020-01-03</td>\n",
       "      <td>3226.360107</td>\n",
       "      <td>3246.149902</td>\n",
       "      <td>3222.340088</td>\n",
       "      <td>3234.850098</td>\n",
       "      <td>3234.850098</td>\n",
       "      <td>3461290000</td>\n",
       "    </tr>\n",
       "    <tr>\n",
       "      <th>2</th>\n",
       "      <td>2020-01-06</td>\n",
       "      <td>3217.550049</td>\n",
       "      <td>3246.840088</td>\n",
       "      <td>3214.639893</td>\n",
       "      <td>3246.280029</td>\n",
       "      <td>3246.280029</td>\n",
       "      <td>3674070000</td>\n",
       "    </tr>\n",
       "    <tr>\n",
       "      <th>3</th>\n",
       "      <td>2020-01-07</td>\n",
       "      <td>3241.860107</td>\n",
       "      <td>3244.909912</td>\n",
       "      <td>3232.429932</td>\n",
       "      <td>3237.179932</td>\n",
       "      <td>3237.179932</td>\n",
       "      <td>3420380000</td>\n",
       "    </tr>\n",
       "    <tr>\n",
       "      <th>4</th>\n",
       "      <td>2020-01-08</td>\n",
       "      <td>3238.590088</td>\n",
       "      <td>3267.070068</td>\n",
       "      <td>3236.669922</td>\n",
       "      <td>3253.050049</td>\n",
       "      <td>3253.050049</td>\n",
       "      <td>3720890000</td>\n",
       "    </tr>\n",
       "  </tbody>\n",
       "</table>\n",
       "</div>"
      ],
      "text/plain": [
       "         Date         Open         High          Low        Close  \\\n",
       "0  2020-01-02  3244.669922  3258.139893  3235.530029  3257.850098   \n",
       "1  2020-01-03  3226.360107  3246.149902  3222.340088  3234.850098   \n",
       "2  2020-01-06  3217.550049  3246.840088  3214.639893  3246.280029   \n",
       "3  2020-01-07  3241.860107  3244.909912  3232.429932  3237.179932   \n",
       "4  2020-01-08  3238.590088  3267.070068  3236.669922  3253.050049   \n",
       "\n",
       "     Adj Close      Volume  \n",
       "0  3257.850098  3458250000  \n",
       "1  3234.850098  3461290000  \n",
       "2  3246.280029  3674070000  \n",
       "3  3237.179932  3420380000  \n",
       "4  3253.050049  3720890000  "
      ]
     },
     "execution_count": 12,
     "metadata": {},
     "output_type": "execute_result"
    }
   ],
   "source": [
    "mkt_returns.head()"
   ]
  },
  {
   "cell_type": "code",
   "execution_count": 13,
   "metadata": {},
   "outputs": [
    {
     "data": {
      "text/html": [
       "<div>\n",
       "<style scoped>\n",
       "    .dataframe tbody tr th:only-of-type {\n",
       "        vertical-align: middle;\n",
       "    }\n",
       "\n",
       "    .dataframe tbody tr th {\n",
       "        vertical-align: top;\n",
       "    }\n",
       "\n",
       "    .dataframe thead th {\n",
       "        text-align: right;\n",
       "    }\n",
       "</style>\n",
       "<table border=\"1\" class=\"dataframe\">\n",
       "  <thead>\n",
       "    <tr style=\"text-align: right;\">\n",
       "      <th></th>\n",
       "      <th>Date</th>\n",
       "      <th>Mkt Return</th>\n",
       "    </tr>\n",
       "  </thead>\n",
       "  <tbody>\n",
       "    <tr>\n",
       "      <th>1</th>\n",
       "      <td>2020-01-03</td>\n",
       "      <td>-0.007060</td>\n",
       "    </tr>\n",
       "    <tr>\n",
       "      <th>2</th>\n",
       "      <td>2020-01-06</td>\n",
       "      <td>0.003533</td>\n",
       "    </tr>\n",
       "    <tr>\n",
       "      <th>3</th>\n",
       "      <td>2020-01-07</td>\n",
       "      <td>-0.002803</td>\n",
       "    </tr>\n",
       "    <tr>\n",
       "      <th>4</th>\n",
       "      <td>2020-01-08</td>\n",
       "      <td>0.004902</td>\n",
       "    </tr>\n",
       "    <tr>\n",
       "      <th>5</th>\n",
       "      <td>2020-01-09</td>\n",
       "      <td>0.006655</td>\n",
       "    </tr>\n",
       "  </tbody>\n",
       "</table>\n",
       "</div>"
      ],
      "text/plain": [
       "         Date  Mkt Return\n",
       "1  2020-01-03   -0.007060\n",
       "2  2020-01-06    0.003533\n",
       "3  2020-01-07   -0.002803\n",
       "4  2020-01-08    0.004902\n",
       "5  2020-01-09    0.006655"
      ]
     },
     "execution_count": 13,
     "metadata": {},
     "output_type": "execute_result"
    }
   ],
   "source": [
    "mkt_returns = mkt_returns[['Date', 'Open', 'Close']].copy()\n",
    "mkt_returns['Mkt Return']= mkt_returns['Close'].pct_change()\n",
    "del mkt_returns['Open']\n",
    "del mkt_returns['Close']\n",
    "mkt_returns = mkt_returns.dropna(how='any')\n",
    "mkt_returns.head()\n"
   ]
  },
  {
   "cell_type": "code",
   "execution_count": 14,
   "metadata": {},
   "outputs": [
    {
     "name": "stdout",
     "output_type": "stream",
     "text": [
      "           Date  Mkt Return\n",
      "206  2020-10-26   -0.018590\n",
      "207  2020-10-27   -0.003026\n",
      "208  2020-10-28   -0.035288\n",
      "209  2020-10-29    0.011947\n",
      "210  2020-10-30   -0.012130\n"
     ]
    }
   ],
   "source": [
    "print(mkt_returns.tail())"
   ]
  },
  {
   "cell_type": "code",
   "execution_count": 15,
   "metadata": {},
   "outputs": [],
   "source": [
    "mkt_ret_df = mkt_returns[['Mkt Return']].dropna()\n",
    "stock_ret_df = stock_returns[['Stock Return']].dropna()"
   ]
  },
  {
   "cell_type": "code",
   "execution_count": 16,
   "metadata": {},
   "outputs": [
    {
     "name": "stdout",
     "output_type": "stream",
     "text": [
      "                                 OLS Regression Results                                \n",
      "=======================================================================================\n",
      "Dep. Variable:           Stock Return   R-squared (uncentered):                   0.422\n",
      "Model:                            OLS   Adj. R-squared (uncentered):              0.419\n",
      "Method:                 Least Squares   F-statistic:                              152.6\n",
      "Date:                Tue, 08 Dec 2020   Prob (F-statistic):                    1.12e-26\n",
      "Time:                        14:33:52   Log-Likelihood:                          427.25\n",
      "No. Observations:                 210   AIC:                                     -852.5\n",
      "Df Residuals:                     209   BIC:                                     -849.2\n",
      "Df Model:                           1                                                  \n",
      "Covariance Type:            nonrobust                                                  \n",
      "==============================================================================\n",
      "                 coef    std err          t      P>|t|      [0.025      0.975]\n",
      "------------------------------------------------------------------------------\n",
      "Mkt Return     1.1527      0.093     12.353      0.000       0.969       1.337\n",
      "==============================================================================\n",
      "Omnibus:                       48.890   Durbin-Watson:                   2.005\n",
      "Prob(Omnibus):                  0.000   Jarque-Bera (JB):              677.902\n",
      "Skew:                          -0.306   Prob(JB):                    6.25e-148\n",
      "Kurtosis:                      11.781   Cond. No.                         1.00\n",
      "==============================================================================\n",
      "\n",
      "Notes:\n",
      "[1] R² is computed without centering (uncentered) since the model does not contain a constant.\n",
      "[2] Standard Errors assume that the covariance matrix of the errors is correctly specified.\n"
     ]
    }
   ],
   "source": [
    "res = sm.OLS(stock_ret_df, mkt_ret_df).fit()\n",
    "stock_returns = np.array(stock_ret_df)\n",
    "mkt_returns = np.array(mkt_ret_df)\n",
    "\n",
    "res.predict(mkt_returns)\n",
    "print(res.summary())\n"
   ]
  }
 ],
 "metadata": {
  "kernelspec": {
   "display_name": "Python 3",
   "language": "python",
   "name": "python3"
  },
  "language_info": {
   "codemirror_mode": {
    "name": "ipython",
    "version": 3
   },
   "file_extension": ".py",
   "mimetype": "text/x-python",
   "name": "python",
   "nbconvert_exporter": "python",
   "pygments_lexer": "ipython3",
   "version": "3.7.7"
  }
 },
 "nbformat": 4,
 "nbformat_minor": 4
}
